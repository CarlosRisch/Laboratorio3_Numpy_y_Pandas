{
 "cells": [
  {
   "cell_type": "markdown",
   "id": "1de7d45f-f962-4b38-bf77-53509c3110e2",
   "metadata": {},
   "source": [
    "# Laboratorio 3 - Análsis de Datos con Python"
   ]
  },
  {
   "cell_type": "markdown",
   "id": "ed1ff500-178e-4575-9ee3-36a168625c36",
   "metadata": {},
   "source": [
    "## Parte 1: Numpy\n",
    "Para los ejercicios siguientes genere el código que considere para resolver el problema que se le plantea."
   ]
  },
  {
   "cell_type": "markdown",
   "id": "cf5e71ec-0939-4d86-a9ba-55a17cd61701",
   "metadata": {},
   "source": [
    "### 1) ¿Cuál es el tamaño en bytes de un array de 1000 elementos de tipo booleano?"
   ]
  },
  {
   "cell_type": "code",
   "execution_count": 4,
   "id": "dafd954a-333b-4001-9dd2-7ddbb4f9dc5b",
   "metadata": {},
   "outputs": [
    {
     "name": "stdout",
     "output_type": "stream",
     "text": [
      "El tamaño en bytes del array es: 1000 bytes\n"
     ]
    }
   ],
   "source": [
    "import numpy as np\n",
    "\n",
    "# Creamos un array de 1000 elementos de tipo booleano en numpy, en este caso 0's o Falses\n",
    "mi_array = np.zeros(1000, dtype=bool)\n",
    "\n",
    "# Calculamos el tamaño en bytes\n",
    "tamanio_en_bytes_array = mi_array.nbytes\n",
    "\n",
    "# Imprimimos el resultado\n",
    "print(f'El tamaño en bytes del array es: {tamanio_en_bytes_array} bytes')\n"
   ]
  },
  {
   "cell_type": "code",
   "execution_count": 5,
   "id": "e5f759fd-9d34-4c4c-93d5-21d2d90af05f",
   "metadata": {},
   "outputs": [
    {
     "name": "stdout",
     "output_type": "stream",
     "text": [
      "Initialized empty Git repository in C:/Users/risca/Desktop/Maestria Ciencia de Datos/Ciencia de datos en Python/Ciencia_de_Datos_Python/U/Laboratorio3/.git/\n"
     ]
    }
   ],
   "source": [
    "!git init"
   ]
  },
  {
   "cell_type": "code",
   "execution_count": 6,
   "id": "1a77bb33-9f2e-4798-b3f6-d92634bda1c6",
   "metadata": {},
   "outputs": [
    {
     "name": "stderr",
     "output_type": "stream",
     "text": [
      "warning: LF will be replaced by CRLF in 12002224_Laboratorio3_Numpy_y_Pandas.ipynb.\n",
      "The file will have its original line endings in your working directory\n"
     ]
    }
   ],
   "source": [
    "!git add 12002224_Laboratorio3_Numpy_y_Pandas.ipynb"
   ]
  },
  {
   "cell_type": "code",
   "execution_count": 7,
   "id": "c76cf8aa-a2c4-473e-a457-54f240bda1b6",
   "metadata": {},
   "outputs": [
    {
     "name": "stdout",
     "output_type": "stream",
     "text": [
      "[master (root-commit) 6bd524f] Primer commit del laboratorio 3\n",
      " 1 file changed, 103 insertions(+)\n",
      " create mode 100644 12002224_Laboratorio3_Numpy_y_Pandas.ipynb\n"
     ]
    }
   ],
   "source": [
    "!git commit -m \"Primer commit del laboratorio 3\""
   ]
  },
  {
   "cell_type": "code",
   "execution_count": 8,
   "id": "b5218bae-a105-4193-8a3b-99a1f7defdf8",
   "metadata": {},
   "outputs": [],
   "source": [
    "!git branch -M main"
   ]
  },
  {
   "cell_type": "code",
   "execution_count": 10,
   "id": "a571aeb0-32cb-46ce-8312-d9c9d29c0074",
   "metadata": {},
   "outputs": [],
   "source": [
    "!git remote add origin https://github.com/CarlosRisch/Laboratorio3_Numpy_y_Pandas.git"
   ]
  },
  {
   "cell_type": "code",
   "execution_count": 11,
   "id": "ca533dab-d9ad-4c11-aac6-22743af9c4c0",
   "metadata": {},
   "outputs": [
    {
     "name": "stdout",
     "output_type": "stream",
     "text": [
      "Branch 'main' set up to track remote branch 'main' from 'origin'.\n"
     ]
    },
    {
     "name": "stderr",
     "output_type": "stream",
     "text": [
      "To https://github.com/CarlosRisch/Laboratorio3_Numpy_y_Pandas.git\n",
      " * [new branch]      main -> main\n"
     ]
    }
   ],
   "source": [
    "!git push -u origin main"
   ]
  },
  {
   "cell_type": "markdown",
   "id": "49224bef-7493-41e8-9b03-de56461f665c",
   "metadata": {},
   "source": [
    "### 2) Cree un array cuyos elementos sean los enteros pares en [1,100] y en orden decreciente. Muestre los 10 últimos por pantalla."
   ]
  },
  {
   "cell_type": "code",
   "execution_count": 13,
   "id": "db01ac4d-e9b3-4778-a4a0-cbcc921d54bc",
   "metadata": {},
   "outputs": [
    {
     "data": {
      "text/plain": [
       "array([100,  98,  96,  94,  92,  90,  88,  86,  84,  82,  80,  78,  76,\n",
       "        74,  72,  70,  68,  66,  64,  62,  60,  58,  56,  54,  52,  50,\n",
       "        48,  46,  44,  42,  40,  38,  36,  34,  32,  30,  28,  26,  24,\n",
       "        22,  20,  18,  16,  14,  12,  10,   8,   6,   4,   2])"
      ]
     },
     "execution_count": 13,
     "metadata": {},
     "output_type": "execute_result"
    }
   ],
   "source": [
    "import numpy as np\n",
    "\n",
    "# Se crea un array con enteros pares en el rango [1, 100] en orden decreciente\n",
    "enteros_pares = np.arange(100, 0, -2)\n",
    "\n",
    "# mostramos los últimos 10\n",
    "ultimos_elementos = enteros_pares[-10:]\n",
    "print('Los ')"
   ]
  },
  {
   "cell_type": "code",
   "execution_count": null,
   "id": "b79e87f1-c046-4ffe-9951-a6683fc6b01d",
   "metadata": {},
   "outputs": [],
   "source": []
  }
 ],
 "metadata": {
  "kernelspec": {
   "display_name": "Python 3 (ipykernel)",
   "language": "python",
   "name": "python3"
  },
  "language_info": {
   "codemirror_mode": {
    "name": "ipython",
    "version": 3
   },
   "file_extension": ".py",
   "mimetype": "text/x-python",
   "name": "python",
   "nbconvert_exporter": "python",
   "pygments_lexer": "ipython3",
   "version": "3.11.7"
  }
 },
 "nbformat": 4,
 "nbformat_minor": 5
}
