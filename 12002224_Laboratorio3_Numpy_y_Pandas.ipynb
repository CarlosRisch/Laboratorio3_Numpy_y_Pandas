{
 "cells": [
  {
   "cell_type": "markdown",
   "id": "1de7d45f-f962-4b38-bf77-53509c3110e2",
   "metadata": {},
   "source": [
    "# Laboratorio 3 - Análsis de Datos con Python"
   ]
  },
  {
   "cell_type": "markdown",
   "id": "ed1ff500-178e-4575-9ee3-36a168625c36",
   "metadata": {},
   "source": [
    "## Parte 1: Numpy\n",
    "Para los ejercicios siguientes genere el código que considere para resolver el problema que se le plantea."
   ]
  },
  {
   "cell_type": "markdown",
   "id": "cf5e71ec-0939-4d86-a9ba-55a17cd61701",
   "metadata": {},
   "source": [
    "### 1) ¿Cuál es el tamaño en bytes de un array de 1000 elementos de tipo booleano?"
   ]
  },
  {
   "cell_type": "code",
   "execution_count": 4,
   "id": "dafd954a-333b-4001-9dd2-7ddbb4f9dc5b",
   "metadata": {},
   "outputs": [
    {
     "name": "stdout",
     "output_type": "stream",
     "text": [
      "El tamaño en bytes del array es: 1000 bytes\n"
     ]
    }
   ],
   "source": [
    "import numpy as np\n",
    "\n",
    "# Creamos un array de 1000 elementos de tipo booleano en numpy, en este caso 0's o Falses\n",
    "mi_array = np.zeros(1000, dtype=bool)\n",
    "\n",
    "# Calculamos el tamaño en bytes\n",
    "tamanio_en_bytes_array = mi_array.nbytes\n",
    "\n",
    "# Imprimimos el resultado\n",
    "print(f'El tamaño en bytes del array es: {tamanio_en_bytes_array} bytes')\n"
   ]
  },
  {
   "cell_type": "code",
   "execution_count": 5,
   "id": "e5f759fd-9d34-4c4c-93d5-21d2d90af05f",
   "metadata": {},
   "outputs": [
    {
     "name": "stdout",
     "output_type": "stream",
     "text": [
      "Initialized empty Git repository in C:/Users/risca/Desktop/Maestria Ciencia de Datos/Ciencia de datos en Python/Ciencia_de_Datos_Python/U/Laboratorio3/.git/\n"
     ]
    }
   ],
   "source": [
    "!git init"
   ]
  },
  {
   "cell_type": "code",
   "execution_count": null,
   "id": "1a77bb33-9f2e-4798-b3f6-d92634bda1c6",
   "metadata": {},
   "outputs": [],
   "source": []
  }
 ],
 "metadata": {
  "kernelspec": {
   "display_name": "Python 3 (ipykernel)",
   "language": "python",
   "name": "python3"
  },
  "language_info": {
   "codemirror_mode": {
    "name": "ipython",
    "version": 3
   },
   "file_extension": ".py",
   "mimetype": "text/x-python",
   "name": "python",
   "nbconvert_exporter": "python",
   "pygments_lexer": "ipython3",
   "version": "3.11.7"
  }
 },
 "nbformat": 4,
 "nbformat_minor": 5
}
