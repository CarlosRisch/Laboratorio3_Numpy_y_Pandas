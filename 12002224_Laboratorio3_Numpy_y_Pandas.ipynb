{
 "cells": [
  {
   "cell_type": "markdown",
   "id": "1de7d45f-f962-4b38-bf77-53509c3110e2",
   "metadata": {},
   "source": [
    "# Laboratorio 3 - Análsis de Datos con Python"
   ]
  },
  {
   "cell_type": "markdown",
   "id": "ed1ff500-178e-4575-9ee3-36a168625c36",
   "metadata": {},
   "source": [
    "## Parte 1: Numpy\n",
    "Para los ejercicios siguientes genere el código que considere para resolver el problema que se le plantea."
   ]
  },
  {
   "cell_type": "markdown",
   "id": "cf5e71ec-0939-4d86-a9ba-55a17cd61701",
   "metadata": {},
   "source": [
    "### 1) ¿Cuál es el tamaño en bytes de un array de 1000 elementos de tipo booleano?"
   ]
  },
  {
   "cell_type": "code",
   "execution_count": 4,
   "id": "dafd954a-333b-4001-9dd2-7ddbb4f9dc5b",
   "metadata": {},
   "outputs": [
    {
     "name": "stdout",
     "output_type": "stream",
     "text": [
      "El tamaño en bytes del array es: 1000 bytes\n"
     ]
    }
   ],
   "source": [
    "import numpy as np\n",
    "\n",
    "# Creamos un array de 1000 elementos de tipo booleano en numpy, en este caso 0's o Falses\n",
    "mi_array = np.zeros(1000, dtype=bool)\n",
    "\n",
    "# Calculamos el tamaño en bytes\n",
    "tamanio_en_bytes_array = mi_array.nbytes\n",
    "\n",
    "# Imprimimos el resultado\n",
    "print(f'El tamaño en bytes del array es: {tamanio_en_bytes_array} bytes')\n"
   ]
  },
  {
   "cell_type": "code",
   "execution_count": 5,
   "id": "e5f759fd-9d34-4c4c-93d5-21d2d90af05f",
   "metadata": {},
   "outputs": [
    {
     "name": "stdout",
     "output_type": "stream",
     "text": [
      "Initialized empty Git repository in C:/Users/risca/Desktop/Maestria Ciencia de Datos/Ciencia de datos en Python/Ciencia_de_Datos_Python/U/Laboratorio3/.git/\n"
     ]
    }
   ],
   "source": [
    "!git init"
   ]
  },
  {
   "cell_type": "code",
   "execution_count": 6,
   "id": "1a77bb33-9f2e-4798-b3f6-d92634bda1c6",
   "metadata": {},
   "outputs": [
    {
     "name": "stderr",
     "output_type": "stream",
     "text": [
      "warning: LF will be replaced by CRLF in 12002224_Laboratorio3_Numpy_y_Pandas.ipynb.\n",
      "The file will have its original line endings in your working directory\n"
     ]
    }
   ],
   "source": [
    "!git add 12002224_Laboratorio3_Numpy_y_Pandas.ipynb"
   ]
  },
  {
   "cell_type": "code",
   "execution_count": 7,
   "id": "c76cf8aa-a2c4-473e-a457-54f240bda1b6",
   "metadata": {},
   "outputs": [
    {
     "name": "stdout",
     "output_type": "stream",
     "text": [
      "[master (root-commit) 6bd524f] Primer commit del laboratorio 3\n",
      " 1 file changed, 103 insertions(+)\n",
      " create mode 100644 12002224_Laboratorio3_Numpy_y_Pandas.ipynb\n"
     ]
    }
   ],
   "source": [
    "!git commit -m \"Primer commit del laboratorio 3\""
   ]
  },
  {
   "cell_type": "code",
   "execution_count": 8,
   "id": "b5218bae-a105-4193-8a3b-99a1f7defdf8",
   "metadata": {},
   "outputs": [],
   "source": [
    "!git branch -M main"
   ]
  },
  {
   "cell_type": "code",
   "execution_count": 10,
   "id": "a571aeb0-32cb-46ce-8312-d9c9d29c0074",
   "metadata": {},
   "outputs": [],
   "source": [
    "!git remote add origin https://github.com/CarlosRisch/Laboratorio3_Numpy_y_Pandas.git"
   ]
  },
  {
   "cell_type": "code",
   "execution_count": 11,
   "id": "ca533dab-d9ad-4c11-aac6-22743af9c4c0",
   "metadata": {},
   "outputs": [
    {
     "name": "stdout",
     "output_type": "stream",
     "text": [
      "Branch 'main' set up to track remote branch 'main' from 'origin'.\n"
     ]
    },
    {
     "name": "stderr",
     "output_type": "stream",
     "text": [
      "To https://github.com/CarlosRisch/Laboratorio3_Numpy_y_Pandas.git\n",
      " * [new branch]      main -> main\n"
     ]
    }
   ],
   "source": [
    "!git push -u origin main"
   ]
  },
  {
   "cell_type": "markdown",
   "id": "49224bef-7493-41e8-9b03-de56461f665c",
   "metadata": {},
   "source": [
    "### 2) Cree un array cuyos elementos sean los enteros pares en [1,100] y en orden decreciente. Muestre los 10 últimos por pantalla."
   ]
  },
  {
   "cell_type": "code",
   "execution_count": 14,
   "id": "db01ac4d-e9b3-4778-a4a0-cbcc921d54bc",
   "metadata": {},
   "outputs": [
    {
     "name": "stdout",
     "output_type": "stream",
     "text": [
      "Los últimos 10 elementos son: \n",
      "[20 18 16 14 12 10  8  6  4  2]\n"
     ]
    }
   ],
   "source": [
    "import numpy as np\n",
    "\n",
    "# Se crea un array con enteros pares en el rango [1, 100] en orden decreciente\n",
    "enteros_pares = np.arange(100, 0, -2)\n",
    "\n",
    "# mostramos los últimos 10\n",
    "ultimos_elementos = enteros_pares[-10:]\n",
    "print('Los últimos 10 elementos son: ')\n",
    "print(ultimos_elementos)"
   ]
  },
  {
   "cell_type": "code",
   "execution_count": 15,
   "id": "b79e87f1-c046-4ffe-9951-a6683fc6b01d",
   "metadata": {},
   "outputs": [
    {
     "name": "stdout",
     "output_type": "stream",
     "text": [
      "On branch main\n",
      "Your branch is up to date with 'origin/main'.\n",
      "\n",
      "Changes not staged for commit:\n",
      "  (use \"git add <file>...\" to update what will be committed)\n",
      "  (use \"git restore <file>...\" to discard changes in working directory)\n",
      "\tmodified:   12002224_Laboratorio3_Numpy_y_Pandas.ipynb\n",
      "\n",
      "Untracked files:\n",
      "  (use \"git add <file>...\" to include in what will be committed)\n",
      "\t.ipynb_checkpoints/\n",
      "\tLab3.zip\n",
      "\tLab3/\n",
      "\t__MACOSX/\n",
      "\n",
      "no changes added to commit (use \"git add\" and/or \"git commit -a\")\n"
     ]
    }
   ],
   "source": [
    "!git status"
   ]
  },
  {
   "cell_type": "code",
   "execution_count": 16,
   "id": "1503db2d-4da3-46bd-ae84-6f32097ce0a5",
   "metadata": {},
   "outputs": [
    {
     "name": "stderr",
     "output_type": "stream",
     "text": [
      "warning: LF will be replaced by CRLF in 12002224_Laboratorio3_Numpy_y_Pandas.ipynb.\n",
      "The file will have its original line endings in your working directory\n"
     ]
    }
   ],
   "source": [
    "!git add 12002224_Laboratorio3_Numpy_y_Pandas.ipynb"
   ]
  },
  {
   "cell_type": "code",
   "execution_count": 17,
   "id": "b7db56d4-d2f7-47bb-ae95-2f6e09c812e5",
   "metadata": {},
   "outputs": [
    {
     "name": "stdout",
     "output_type": "stream",
     "text": [
      "[main 19901ec] Segundo Ejercicio del Laboratorio 3 parte I\n",
      " 1 file changed, 125 insertions(+), 1 deletion(-)\n"
     ]
    }
   ],
   "source": [
    "!git commit -m \"Segundo Ejercicio del Laboratorio 3 parte I\""
   ]
  },
  {
   "cell_type": "code",
   "execution_count": 18,
   "id": "172d894a-e9f6-48ac-b942-334d8ef66a63",
   "metadata": {},
   "outputs": [
    {
     "name": "stdout",
     "output_type": "stream",
     "text": [
      "Branch 'main' set up to track remote branch 'main' from 'origin'.\n"
     ]
    },
    {
     "name": "stderr",
     "output_type": "stream",
     "text": [
      "To https://github.com/CarlosRisch/Laboratorio3_Numpy_y_Pandas.git\n",
      "   6bd524f..19901ec  main -> main\n"
     ]
    }
   ],
   "source": [
    "!git push -u origin main"
   ]
  },
  {
   "cell_type": "markdown",
   "id": "bfe9169f-a2f9-4ba3-b2f9-447a19694d23",
   "metadata": {},
   "source": [
    "### 3) Dado el array\n",
    "###### 2 4 5 6\n",
    "###### 0 3 7 4\n",
    "###### 8 8 5 2\n",
    "###### 1 5 6 1\n",
    "###### Seleccione con una instrucción el subarray de elementos\n",
    "###### 0 3 7 4\n",
    "###### Después, seleccione el subarray de elementos\n",
    "###### 2 5\n",
    "###### 8 5"
   ]
  },
  {
   "cell_type": "code",
   "execution_count": 49,
   "id": "60a2d47b-7e8a-48f8-b251-361b2b4a5901",
   "metadata": {},
   "outputs": [
    {
     "name": "stdout",
     "output_type": "stream",
     "text": [
      "Selecciono el subarray de elementos [0,3,7,4]\n",
      "[0 3 7 4]\n",
      "\n",
      "Siguiente subarray:\n",
      "[[2 5]\n",
      " [8 5]]\n"
     ]
    }
   ],
   "source": [
    "# Creo el array especificado con sus subarrays \n",
    "mi_array2 = np.array([\n",
    "    [2, 4, 5, 6],\n",
    "    [0, 3, 7, 4],\n",
    "    [8, 8, 5, 2],\n",
    "    [1, 5, 6, 1]\n",
    "])\n",
    "\n",
    "# Obtengo el subarray [0,3,7,4]\n",
    "print('Selecciono el subarray de elementos [0,3,7,4]')\n",
    "print(mi_array2[1,:5])\n",
    "\n",
    "# Obtengo el subarray \n",
    "# 2 5\n",
    "# 8 5\n",
    "print()\n",
    "print('Siguiente subarray:')\n",
    "print(mi_array2[0:3:2, 0:3:2])\n"
   ]
  },
  {
   "cell_type": "code",
   "execution_count": 50,
   "id": "47c70442-d91d-4c74-b5ec-0de2f9fa2e1f",
   "metadata": {},
   "outputs": [
    {
     "name": "stdout",
     "output_type": "stream",
     "text": [
      "On branch main\n",
      "Your branch is up to date with 'origin/main'.\n",
      "\n",
      "Changes not staged for commit:\n",
      "  (use \"git add <file>...\" to update what will be committed)\n",
      "  (use \"git restore <file>...\" to discard changes in working directory)\n",
      "\tmodified:   12002224_Laboratorio3_Numpy_y_Pandas.ipynb\n",
      "\n",
      "Untracked files:\n",
      "  (use \"git add <file>...\" to include in what will be committed)\n",
      "\t.ipynb_checkpoints/\n",
      "\tLab3.zip\n",
      "\tLab3/\n",
      "\t__MACOSX/\n",
      "\n",
      "no changes added to commit (use \"git add\" and/or \"git commit -a\")\n"
     ]
    }
   ],
   "source": [
    "!git status"
   ]
  },
  {
   "cell_type": "code",
   "execution_count": 51,
   "id": "d4728077-dc09-416b-ad47-3530a4448f05",
   "metadata": {},
   "outputs": [
    {
     "name": "stderr",
     "output_type": "stream",
     "text": [
      "warning: LF will be replaced by CRLF in 12002224_Laboratorio3_Numpy_y_Pandas.ipynb.\n",
      "The file will have its original line endings in your working directory\n"
     ]
    }
   ],
   "source": [
    "!git add 12002224_Laboratorio3_Numpy_y_Pandas.ipynb"
   ]
  },
  {
   "cell_type": "code",
   "execution_count": 52,
   "id": "03fcbe7a-9454-4937-8057-e6c98157893e",
   "metadata": {},
   "outputs": [
    {
     "name": "stdout",
     "output_type": "stream",
     "text": [
      "[main e4a10e6] Tercer ejercicio del Laboratorio 3 parte I\n",
      " 1 file changed, 172 insertions(+), 14 deletions(-)\n"
     ]
    }
   ],
   "source": [
    "!git commit -m \"Tercer ejercicio del Laboratorio 3 parte I\""
   ]
  },
  {
   "cell_type": "code",
   "execution_count": 53,
   "id": "3171e336-efa8-49e6-a55b-203381116dd7",
   "metadata": {},
   "outputs": [
    {
     "name": "stdout",
     "output_type": "stream",
     "text": [
      "Branch 'main' set up to track remote branch 'main' from 'origin'.\n"
     ]
    },
    {
     "name": "stderr",
     "output_type": "stream",
     "text": [
      "To https://github.com/CarlosRisch/Laboratorio3_Numpy_y_Pandas.git\n",
      "   19901ec..e4a10e6  main -> main\n"
     ]
    }
   ],
   "source": [
    "!git push -u origin main"
   ]
  },
  {
   "cell_type": "markdown",
   "id": "1274c17c-ad95-4b55-abf0-b599bdd442b9",
   "metadata": {},
   "source": [
    "### 4) Dados los arrays a = [1, 4, 2, 7] y b = [1, 3, 2, 9], obtenga la media aritmética de la diferencia (a-b)."
   ]
  },
  {
   "cell_type": "code",
   "execution_count": 58,
   "id": "35b67357-5650-4b36-b465-62d2edf89a38",
   "metadata": {},
   "outputs": [
    {
     "name": "stdout",
     "output_type": "stream",
     "text": [
      "La diferencia entre el array [1 4 2 7] y el array [1 3 2 9] es: [ 0  1  0 -2]\n",
      "La media de la diferencia es: -0.25 \n"
     ]
    }
   ],
   "source": [
    "# Declaro los arrays provistos\n",
    "a = np.array([1, 4, 2, 7])\n",
    "b = np.array([1, 3, 2, 9])\n",
    "\n",
    "# Realizo la resta del array a y b\n",
    "diferencia = a - b\n",
    "\n",
    "# obtengo la media de diferencia entre a y b\n",
    "media = np.mean(diferencia)\n",
    "\n",
    "print(f'La diferencia entre el array {a} y el array {b} es: {diferencia}')\n",
    "print(f'La media de la diferencia es: {media} ')"
   ]
  },
  {
   "cell_type": "code",
   "execution_count": 59,
   "id": "9a405891-74e9-4666-acdf-45293526d063",
   "metadata": {},
   "outputs": [
    {
     "name": "stdout",
     "output_type": "stream",
     "text": [
      "On branch main\n",
      "Your branch is up to date with 'origin/main'.\n",
      "\n",
      "Changes not staged for commit:\n",
      "  (use \"git add <file>...\" to update what will be committed)\n",
      "  (use \"git restore <file>...\" to discard changes in working directory)\n",
      "\tmodified:   12002224_Laboratorio3_Numpy_y_Pandas.ipynb\n",
      "\n",
      "Untracked files:\n",
      "  (use \"git add <file>...\" to include in what will be committed)\n",
      "\t.ipynb_checkpoints/\n",
      "\tLab3.zip\n",
      "\tLab3/\n",
      "\t__MACOSX/\n",
      "\n",
      "no changes added to commit (use \"git add\" and/or \"git commit -a\")\n"
     ]
    }
   ],
   "source": [
    "!git status"
   ]
  },
  {
   "cell_type": "code",
   "execution_count": null,
   "id": "c27acbbb-348e-4240-b243-c496b9d97f1a",
   "metadata": {},
   "outputs": [],
   "source": []
  }
 ],
 "metadata": {
  "kernelspec": {
   "display_name": "Python 3 (ipykernel)",
   "language": "python",
   "name": "python3"
  },
  "language_info": {
   "codemirror_mode": {
    "name": "ipython",
    "version": 3
   },
   "file_extension": ".py",
   "mimetype": "text/x-python",
   "name": "python",
   "nbconvert_exporter": "python",
   "pygments_lexer": "ipython3",
   "version": "3.11.7"
  }
 },
 "nbformat": 4,
 "nbformat_minor": 5
}
